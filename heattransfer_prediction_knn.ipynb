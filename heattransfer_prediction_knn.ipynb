{
 "cells": [
  {
   "cell_type": "code",
   "execution_count": 3,
   "id": "6c5a84ae",
   "metadata": {},
   "outputs": [],
   "source": [
    "import pandas as pd\n",
    "import numpy as np\n",
    "import matplotlib.pyplot as plt\n",
    "import scipy\n",
    "from sklearn import preprocessing\n",
    "from sklearn.neighbors import KNeighborsRegressor\n",
    "import statistics\n"
   ]
  },
  {
   "cell_type": "code",
   "execution_count": 4,
   "id": "6ec9139e",
   "metadata": {},
   "outputs": [
    {
     "data": {
      "text/html": [
       "<div>\n",
       "<style scoped>\n",
       "    .dataframe tbody tr th:only-of-type {\n",
       "        vertical-align: middle;\n",
       "    }\n",
       "\n",
       "    .dataframe tbody tr th {\n",
       "        vertical-align: top;\n",
       "    }\n",
       "\n",
       "    .dataframe thead th {\n",
       "        text-align: right;\n",
       "    }\n",
       "</style>\n",
       "<table border=\"1\" class=\"dataframe\">\n",
       "  <thead>\n",
       "    <tr style=\"text-align: right;\">\n",
       "      <th></th>\n",
       "      <th>di/do</th>\n",
       "      <th>do</th>\n",
       "      <th>t*=t/do</th>\n",
       "      <th>t</th>\n",
       "      <th>del*=del/do</th>\n",
       "      <th>del</th>\n",
       "      <th>Lexposed</th>\n",
       "      <th>At (total outer surface area)</th>\n",
       "      <th>h</th>\n",
       "      <th>qcu (heat flux copper)</th>\n",
       "      <th>qss (heat flux Steel)</th>\n",
       "      <th>qo (maximum heat flux possible)</th>\n",
       "      <th>qcu/qo (efficiency copper)</th>\n",
       "      <th>qss/qo (efficiency steel)</th>\n",
       "      <th>Qcu (rate of heat transfer copper)</th>\n",
       "      <th>Qss (rate of heat transfer steel)</th>\n",
       "      <th>Qo (max. rate of HT possible)</th>\n",
       "      <th>Ecu (effectiveness copper)</th>\n",
       "      <th>Ess (effectiveness steel)</th>\n",
       "      <th>M</th>\n",
       "    </tr>\n",
       "  </thead>\n",
       "  <tbody>\n",
       "    <tr>\n",
       "      <th>0</th>\n",
       "      <td>0.8333</td>\n",
       "      <td>6</td>\n",
       "      <td>0.0333</td>\n",
       "      <td>0.2</td>\n",
       "      <td>0.1</td>\n",
       "      <td>0.6</td>\n",
       "      <td>75.2</td>\n",
       "      <td>0.0752</td>\n",
       "      <td>5</td>\n",
       "      <td>499.875</td>\n",
       "      <td>496.331</td>\n",
       "      <td>500</td>\n",
       "      <td>0.999750</td>\n",
       "      <td>0.992662</td>\n",
       "      <td>37.590600</td>\n",
       "      <td>37.324091</td>\n",
       "      <td>9.425</td>\n",
       "      <td>3.988393</td>\n",
       "      <td>3.960116</td>\n",
       "      <td>0.121259</td>\n",
       "    </tr>\n",
       "    <tr>\n",
       "      <th>1</th>\n",
       "      <td>0.8333</td>\n",
       "      <td>6</td>\n",
       "      <td>0.0333</td>\n",
       "      <td>0.2</td>\n",
       "      <td>0.1</td>\n",
       "      <td>0.6</td>\n",
       "      <td>75.2</td>\n",
       "      <td>0.0752</td>\n",
       "      <td>20</td>\n",
       "      <td>1998.007</td>\n",
       "      <td>1942.193</td>\n",
       "      <td>2000</td>\n",
       "      <td>0.999004</td>\n",
       "      <td>0.971097</td>\n",
       "      <td>150.250126</td>\n",
       "      <td>146.052914</td>\n",
       "      <td>37.700</td>\n",
       "      <td>3.985414</td>\n",
       "      <td>3.874083</td>\n",
       "      <td>0.485036</td>\n",
       "    </tr>\n",
       "    <tr>\n",
       "      <th>2</th>\n",
       "      <td>0.8333</td>\n",
       "      <td>6</td>\n",
       "      <td>0.0333</td>\n",
       "      <td>0.2</td>\n",
       "      <td>0.1</td>\n",
       "      <td>0.6</td>\n",
       "      <td>75.2</td>\n",
       "      <td>0.0752</td>\n",
       "      <td>50</td>\n",
       "      <td>4987.556</td>\n",
       "      <td>4649.601</td>\n",
       "      <td>5000</td>\n",
       "      <td>0.997511</td>\n",
       "      <td>0.929920</td>\n",
       "      <td>375.064211</td>\n",
       "      <td>349.649995</td>\n",
       "      <td>94.250</td>\n",
       "      <td>3.979461</td>\n",
       "      <td>3.709814</td>\n",
       "      <td>1.212590</td>\n",
       "    </tr>\n",
       "    <tr>\n",
       "      <th>3</th>\n",
       "      <td>0.8333</td>\n",
       "      <td>6</td>\n",
       "      <td>0.0333</td>\n",
       "      <td>0.2</td>\n",
       "      <td>0.1</td>\n",
       "      <td>0.6</td>\n",
       "      <td>75.2</td>\n",
       "      <td>0.0752</td>\n",
       "      <td>100</td>\n",
       "      <td>9950.311</td>\n",
       "      <td>8667.041</td>\n",
       "      <td>10000</td>\n",
       "      <td>0.995031</td>\n",
       "      <td>0.866704</td>\n",
       "      <td>748.263387</td>\n",
       "      <td>651.761483</td>\n",
       "      <td>188.500</td>\n",
       "      <td>3.969567</td>\n",
       "      <td>3.457621</td>\n",
       "      <td>2.425181</td>\n",
       "    </tr>\n",
       "    <tr>\n",
       "      <th>4</th>\n",
       "      <td>0.8333</td>\n",
       "      <td>6</td>\n",
       "      <td>0.0333</td>\n",
       "      <td>0.2</td>\n",
       "      <td>0.1</td>\n",
       "      <td>0.6</td>\n",
       "      <td>75.2</td>\n",
       "      <td>0.0752</td>\n",
       "      <td>200</td>\n",
       "      <td>19801.930</td>\n",
       "      <td>15162.990</td>\n",
       "      <td>20000</td>\n",
       "      <td>0.990097</td>\n",
       "      <td>0.758150</td>\n",
       "      <td>1489.105136</td>\n",
       "      <td>1140.256848</td>\n",
       "      <td>377.000</td>\n",
       "      <td>3.949881</td>\n",
       "      <td>3.024554</td>\n",
       "      <td>4.850361</td>\n",
       "    </tr>\n",
       "    <tr>\n",
       "      <th>...</th>\n",
       "      <td>...</td>\n",
       "      <td>...</td>\n",
       "      <td>...</td>\n",
       "      <td>...</td>\n",
       "      <td>...</td>\n",
       "      <td>...</td>\n",
       "      <td>...</td>\n",
       "      <td>...</td>\n",
       "      <td>...</td>\n",
       "      <td>...</td>\n",
       "      <td>...</td>\n",
       "      <td>...</td>\n",
       "      <td>...</td>\n",
       "      <td>...</td>\n",
       "      <td>...</td>\n",
       "      <td>...</td>\n",
       "      <td>...</td>\n",
       "      <td>...</td>\n",
       "      <td>...</td>\n",
       "      <td>...</td>\n",
       "    </tr>\n",
       "    <tr>\n",
       "      <th>145</th>\n",
       "      <td>0.8333</td>\n",
       "      <td>6</td>\n",
       "      <td>0.4000</td>\n",
       "      <td>2.4</td>\n",
       "      <td>8.0</td>\n",
       "      <td>48.0</td>\n",
       "      <td>2332.8</td>\n",
       "      <td>2.3328</td>\n",
       "      <td>5</td>\n",
       "      <td>496.002</td>\n",
       "      <td>414.919</td>\n",
       "      <td>500</td>\n",
       "      <td>0.992004</td>\n",
       "      <td>0.829838</td>\n",
       "      <td>1157.073466</td>\n",
       "      <td>967.923043</td>\n",
       "      <td>9.425</td>\n",
       "      <td>122.766415</td>\n",
       "      <td>102.697405</td>\n",
       "      <td>3.761610</td>\n",
       "    </tr>\n",
       "    <tr>\n",
       "      <th>146</th>\n",
       "      <td>0.8333</td>\n",
       "      <td>6</td>\n",
       "      <td>0.4000</td>\n",
       "      <td>2.4</td>\n",
       "      <td>8.0</td>\n",
       "      <td>48.0</td>\n",
       "      <td>2332.8</td>\n",
       "      <td>2.3328</td>\n",
       "      <td>20</td>\n",
       "      <td>1936.870</td>\n",
       "      <td>969.855</td>\n",
       "      <td>2000</td>\n",
       "      <td>0.968435</td>\n",
       "      <td>0.484928</td>\n",
       "      <td>4518.330336</td>\n",
       "      <td>2262.477744</td>\n",
       "      <td>37.700</td>\n",
       "      <td>119.849611</td>\n",
       "      <td>60.012672</td>\n",
       "      <td>15.046440</td>\n",
       "    </tr>\n",
       "    <tr>\n",
       "      <th>147</th>\n",
       "      <td>0.8333</td>\n",
       "      <td>6</td>\n",
       "      <td>0.4000</td>\n",
       "      <td>2.4</td>\n",
       "      <td>8.0</td>\n",
       "      <td>48.0</td>\n",
       "      <td>2332.8</td>\n",
       "      <td>2.3328</td>\n",
       "      <td>50</td>\n",
       "      <td>4615.584</td>\n",
       "      <td>1152.152</td>\n",
       "      <td>5000</td>\n",
       "      <td>0.923117</td>\n",
       "      <td>0.230430</td>\n",
       "      <td>10767.234360</td>\n",
       "      <td>2687.740186</td>\n",
       "      <td>94.250</td>\n",
       "      <td>114.241213</td>\n",
       "      <td>28.517137</td>\n",
       "      <td>37.616099</td>\n",
       "    </tr>\n",
       "    <tr>\n",
       "      <th>148</th>\n",
       "      <td>0.8333</td>\n",
       "      <td>6</td>\n",
       "      <td>0.4000</td>\n",
       "      <td>2.4</td>\n",
       "      <td>8.0</td>\n",
       "      <td>48.0</td>\n",
       "      <td>2332.8</td>\n",
       "      <td>2.3328</td>\n",
       "      <td>100</td>\n",
       "      <td>8526.856</td>\n",
       "      <td>1429.178</td>\n",
       "      <td>10000</td>\n",
       "      <td>0.852686</td>\n",
       "      <td>0.142918</td>\n",
       "      <td>19891.449680</td>\n",
       "      <td>3333.986438</td>\n",
       "      <td>188.500</td>\n",
       "      <td>105.524932</td>\n",
       "      <td>17.686931</td>\n",
       "      <td>75.232198</td>\n",
       "    </tr>\n",
       "    <tr>\n",
       "      <th>149</th>\n",
       "      <td>0.8333</td>\n",
       "      <td>6</td>\n",
       "      <td>0.4000</td>\n",
       "      <td>2.4</td>\n",
       "      <td>8.0</td>\n",
       "      <td>48.0</td>\n",
       "      <td>2332.8</td>\n",
       "      <td>2.3328</td>\n",
       "      <td>200</td>\n",
       "      <td>14580.520</td>\n",
       "      <td>1474.602</td>\n",
       "      <td>20000</td>\n",
       "      <td>0.729026</td>\n",
       "      <td>0.073730</td>\n",
       "      <td>34013.437060</td>\n",
       "      <td>3439.951546</td>\n",
       "      <td>377.000</td>\n",
       "      <td>90.221318</td>\n",
       "      <td>9.124540</td>\n",
       "      <td>150.464396</td>\n",
       "    </tr>\n",
       "  </tbody>\n",
       "</table>\n",
       "<p>150 rows × 20 columns</p>\n",
       "</div>"
      ],
      "text/plain": [
       "      di/do  do  t*=t/do    t  del*=del/do   del  Lexposed  \\\n",
       "0    0.8333   6   0.0333  0.2          0.1   0.6      75.2   \n",
       "1    0.8333   6   0.0333  0.2          0.1   0.6      75.2   \n",
       "2    0.8333   6   0.0333  0.2          0.1   0.6      75.2   \n",
       "3    0.8333   6   0.0333  0.2          0.1   0.6      75.2   \n",
       "4    0.8333   6   0.0333  0.2          0.1   0.6      75.2   \n",
       "..      ...  ..      ...  ...          ...   ...       ...   \n",
       "145  0.8333   6   0.4000  2.4          8.0  48.0    2332.8   \n",
       "146  0.8333   6   0.4000  2.4          8.0  48.0    2332.8   \n",
       "147  0.8333   6   0.4000  2.4          8.0  48.0    2332.8   \n",
       "148  0.8333   6   0.4000  2.4          8.0  48.0    2332.8   \n",
       "149  0.8333   6   0.4000  2.4          8.0  48.0    2332.8   \n",
       "\n",
       "     At (total outer surface area)    h  qcu (heat flux copper)  \\\n",
       "0                           0.0752    5                 499.875   \n",
       "1                           0.0752   20                1998.007   \n",
       "2                           0.0752   50                4987.556   \n",
       "3                           0.0752  100                9950.311   \n",
       "4                           0.0752  200               19801.930   \n",
       "..                             ...  ...                     ...   \n",
       "145                         2.3328    5                 496.002   \n",
       "146                         2.3328   20                1936.870   \n",
       "147                         2.3328   50                4615.584   \n",
       "148                         2.3328  100                8526.856   \n",
       "149                         2.3328  200               14580.520   \n",
       "\n",
       "     qss (heat flux Steel)  qo (maximum heat flux possible)  \\\n",
       "0                  496.331                              500   \n",
       "1                 1942.193                             2000   \n",
       "2                 4649.601                             5000   \n",
       "3                 8667.041                            10000   \n",
       "4                15162.990                            20000   \n",
       "..                     ...                              ...   \n",
       "145                414.919                              500   \n",
       "146                969.855                             2000   \n",
       "147               1152.152                             5000   \n",
       "148               1429.178                            10000   \n",
       "149               1474.602                            20000   \n",
       "\n",
       "     qcu/qo (efficiency copper)  qss/qo (efficiency steel)  \\\n",
       "0                      0.999750                   0.992662   \n",
       "1                      0.999004                   0.971097   \n",
       "2                      0.997511                   0.929920   \n",
       "3                      0.995031                   0.866704   \n",
       "4                      0.990097                   0.758150   \n",
       "..                          ...                        ...   \n",
       "145                    0.992004                   0.829838   \n",
       "146                    0.968435                   0.484928   \n",
       "147                    0.923117                   0.230430   \n",
       "148                    0.852686                   0.142918   \n",
       "149                    0.729026                   0.073730   \n",
       "\n",
       "     Qcu (rate of heat transfer copper)  Qss (rate of heat transfer steel)  \\\n",
       "0                             37.590600                          37.324091   \n",
       "1                            150.250126                         146.052914   \n",
       "2                            375.064211                         349.649995   \n",
       "3                            748.263387                         651.761483   \n",
       "4                           1489.105136                        1140.256848   \n",
       "..                                  ...                                ...   \n",
       "145                         1157.073466                         967.923043   \n",
       "146                         4518.330336                        2262.477744   \n",
       "147                        10767.234360                        2687.740186   \n",
       "148                        19891.449680                        3333.986438   \n",
       "149                        34013.437060                        3439.951546   \n",
       "\n",
       "     Qo (max. rate of HT possible)  Ecu (effectiveness copper)  \\\n",
       "0                            9.425                    3.988393   \n",
       "1                           37.700                    3.985414   \n",
       "2                           94.250                    3.979461   \n",
       "3                          188.500                    3.969567   \n",
       "4                          377.000                    3.949881   \n",
       "..                             ...                         ...   \n",
       "145                          9.425                  122.766415   \n",
       "146                         37.700                  119.849611   \n",
       "147                         94.250                  114.241213   \n",
       "148                        188.500                  105.524932   \n",
       "149                        377.000                   90.221318   \n",
       "\n",
       "     Ess (effectiveness steel)           M  \n",
       "0                     3.960116    0.121259  \n",
       "1                     3.874083    0.485036  \n",
       "2                     3.709814    1.212590  \n",
       "3                     3.457621    2.425181  \n",
       "4                     3.024554    4.850361  \n",
       "..                         ...         ...  \n",
       "145                 102.697405    3.761610  \n",
       "146                  60.012672   15.046440  \n",
       "147                  28.517137   37.616099  \n",
       "148                  17.686931   75.232198  \n",
       "149                   9.124540  150.464396  \n",
       "\n",
       "[150 rows x 20 columns]"
      ]
     },
     "execution_count": 4,
     "metadata": {},
     "output_type": "execute_result"
    }
   ],
   "source": [
    "df=pd.read_csv(r\"C:\\Users\\Admin\\Desktop\\heat exchanger.csv\")\n",
    "df1=df.assign(M=(df[\"h\"]*df[\"Lexposed\"]/(8*387.6)))\n",
    "\n",
    "df1"
   ]
  },
  {
   "cell_type": "code",
   "execution_count": 5,
   "id": "80e3fcb5",
   "metadata": {},
   "outputs": [
    {
     "data": {
      "text/html": [
       "<div>\n",
       "<style scoped>\n",
       "    .dataframe tbody tr th:only-of-type {\n",
       "        vertical-align: middle;\n",
       "    }\n",
       "\n",
       "    .dataframe tbody tr th {\n",
       "        vertical-align: top;\n",
       "    }\n",
       "\n",
       "    .dataframe thead th {\n",
       "        text-align: right;\n",
       "    }\n",
       "</style>\n",
       "<table border=\"1\" class=\"dataframe\">\n",
       "  <thead>\n",
       "    <tr style=\"text-align: right;\">\n",
       "      <th></th>\n",
       "      <th>di/do</th>\n",
       "      <th>do</th>\n",
       "      <th>t*=t/do</th>\n",
       "      <th>t</th>\n",
       "      <th>del*=del/do</th>\n",
       "      <th>del</th>\n",
       "      <th>Lexposed</th>\n",
       "      <th>At (total outer surface area)</th>\n",
       "      <th>h</th>\n",
       "      <th>qcu (heat flux copper)</th>\n",
       "      <th>qss (heat flux Steel)</th>\n",
       "      <th>qo (maximum heat flux possible)</th>\n",
       "      <th>qcu/qo (efficiency copper)</th>\n",
       "      <th>qss/qo (efficiency steel)</th>\n",
       "      <th>Qcu (rate of heat transfer copper)</th>\n",
       "      <th>Qss (rate of heat transfer steel)</th>\n",
       "      <th>Qo (max. rate of HT possible)</th>\n",
       "      <th>Ecu (effectiveness copper)</th>\n",
       "      <th>Ess (effectiveness steel)</th>\n",
       "      <th>M</th>\n",
       "    </tr>\n",
       "  </thead>\n",
       "  <tbody>\n",
       "    <tr>\n",
       "      <th>count</th>\n",
       "      <td>1.500000e+02</td>\n",
       "      <td>150.0</td>\n",
       "      <td>150.000000</td>\n",
       "      <td>150.000000</td>\n",
       "      <td>150.000000</td>\n",
       "      <td>150.000000</td>\n",
       "      <td>150.000000</td>\n",
       "      <td>150.000000</td>\n",
       "      <td>150.000000</td>\n",
       "      <td>150.000000</td>\n",
       "      <td>150.000000</td>\n",
       "      <td>150.000000</td>\n",
       "      <td>150.000000</td>\n",
       "      <td>150.000000</td>\n",
       "      <td>150.000000</td>\n",
       "      <td>150.000000</td>\n",
       "      <td>150.000000</td>\n",
       "      <td>150.000000</td>\n",
       "      <td>150.000000</td>\n",
       "      <td>150.000000</td>\n",
       "    </tr>\n",
       "    <tr>\n",
       "      <th>mean</th>\n",
       "      <td>8.333000e-01</td>\n",
       "      <td>6.0</td>\n",
       "      <td>0.199967</td>\n",
       "      <td>1.200000</td>\n",
       "      <td>2.400000</td>\n",
       "      <td>14.400000</td>\n",
       "      <td>729.600000</td>\n",
       "      <td>0.729600</td>\n",
       "      <td>75.000000</td>\n",
       "      <td>6701.783993</td>\n",
       "      <td>4016.951693</td>\n",
       "      <td>7500.000000</td>\n",
       "      <td>0.938005</td>\n",
       "      <td>0.671266</td>\n",
       "      <td>4124.458687</td>\n",
       "      <td>1416.214659</td>\n",
       "      <td>141.375000</td>\n",
       "      <td>33.048566</td>\n",
       "      <td>16.325606</td>\n",
       "      <td>17.647059</td>\n",
       "    </tr>\n",
       "    <tr>\n",
       "      <th>std</th>\n",
       "      <td>2.450673e-15</td>\n",
       "      <td>0.0</td>\n",
       "      <td>0.152060</td>\n",
       "      <td>0.912258</td>\n",
       "      <td>2.587398</td>\n",
       "      <td>15.524391</td>\n",
       "      <td>745.206498</td>\n",
       "      <td>0.745206</td>\n",
       "      <td>70.663205</td>\n",
       "      <td>6390.694073</td>\n",
       "      <td>4588.970948</td>\n",
       "      <td>7066.320535</td>\n",
       "      <td>0.140497</td>\n",
       "      <td>0.331661</td>\n",
       "      <td>5987.159546</td>\n",
       "      <td>1215.132561</td>\n",
       "      <td>133.200142</td>\n",
       "      <td>32.401981</td>\n",
       "      <td>16.935829</td>\n",
       "      <td>29.796048</td>\n",
       "    </tr>\n",
       "    <tr>\n",
       "      <th>min</th>\n",
       "      <td>8.333000e-01</td>\n",
       "      <td>6.0</td>\n",
       "      <td>0.033300</td>\n",
       "      <td>0.200000</td>\n",
       "      <td>0.100000</td>\n",
       "      <td>0.600000</td>\n",
       "      <td>57.600000</td>\n",
       "      <td>0.057600</td>\n",
       "      <td>5.000000</td>\n",
       "      <td>467.466000</td>\n",
       "      <td>122.442000</td>\n",
       "      <td>500.000000</td>\n",
       "      <td>0.185905</td>\n",
       "      <td>0.030448</td>\n",
       "      <td>28.798906</td>\n",
       "      <td>28.775290</td>\n",
       "      <td>9.425000</td>\n",
       "      <td>3.051052</td>\n",
       "      <td>2.953172</td>\n",
       "      <td>0.092879</td>\n",
       "    </tr>\n",
       "    <tr>\n",
       "      <th>25%</th>\n",
       "      <td>8.333000e-01</td>\n",
       "      <td>6.0</td>\n",
       "      <td>0.033300</td>\n",
       "      <td>0.200000</td>\n",
       "      <td>0.400000</td>\n",
       "      <td>2.400000</td>\n",
       "      <td>155.200000</td>\n",
       "      <td>0.155200</td>\n",
       "      <td>20.000000</td>\n",
       "      <td>1960.935000</td>\n",
       "      <td>619.616250</td>\n",
       "      <td>2000.000000</td>\n",
       "      <td>0.953442</td>\n",
       "      <td>0.315637</td>\n",
       "      <td>542.715336</td>\n",
       "      <td>477.011598</td>\n",
       "      <td>37.700000</td>\n",
       "      <td>8.222160</td>\n",
       "      <td>5.478381</td>\n",
       "      <td>1.754386</td>\n",
       "    </tr>\n",
       "    <tr>\n",
       "      <th>50%</th>\n",
       "      <td>8.333000e-01</td>\n",
       "      <td>6.0</td>\n",
       "      <td>0.166600</td>\n",
       "      <td>1.000000</td>\n",
       "      <td>1.250000</td>\n",
       "      <td>7.500000</td>\n",
       "      <td>397.600000</td>\n",
       "      <td>0.397600</td>\n",
       "      <td>50.000000</td>\n",
       "      <td>4908.206500</td>\n",
       "      <td>1943.379500</td>\n",
       "      <td>5000.000000</td>\n",
       "      <td>0.991898</td>\n",
       "      <td>0.825972</td>\n",
       "      <td>1588.865416</td>\n",
       "      <td>1078.465394</td>\n",
       "      <td>94.250000</td>\n",
       "      <td>20.094308</td>\n",
       "      <td>11.311672</td>\n",
       "      <td>5.159959</td>\n",
       "    </tr>\n",
       "    <tr>\n",
       "      <th>75%</th>\n",
       "      <td>8.333000e-01</td>\n",
       "      <td>6.0</td>\n",
       "      <td>0.400000</td>\n",
       "      <td>2.400000</td>\n",
       "      <td>4.000000</td>\n",
       "      <td>24.000000</td>\n",
       "      <td>1192.000000</td>\n",
       "      <td>1.192000</td>\n",
       "      <td>100.000000</td>\n",
       "      <td>9912.579250</td>\n",
       "      <td>5060.683750</td>\n",
       "      <td>10000.000000</td>\n",
       "      <td>0.998366</td>\n",
       "      <td>0.962425</td>\n",
       "      <td>5511.521534</td>\n",
       "      <td>2168.532339</td>\n",
       "      <td>188.500000</td>\n",
       "      <td>54.562753</td>\n",
       "      <td>18.922194</td>\n",
       "      <td>19.175697</td>\n",
       "    </tr>\n",
       "    <tr>\n",
       "      <th>max</th>\n",
       "      <td>8.333000e-01</td>\n",
       "      <td>6.0</td>\n",
       "      <td>0.400000</td>\n",
       "      <td>2.400000</td>\n",
       "      <td>8.000000</td>\n",
       "      <td>48.000000</td>\n",
       "      <td>2350.400000</td>\n",
       "      <td>2.350400</td>\n",
       "      <td>200.000000</td>\n",
       "      <td>19969.560000</td>\n",
       "      <td>19328.920000</td>\n",
       "      <td>20000.000000</td>\n",
       "      <td>0.999962</td>\n",
       "      <td>0.999142</td>\n",
       "      <td>34013.437060</td>\n",
       "      <td>5153.988096</td>\n",
       "      <td>377.000000</td>\n",
       "      <td>122.766415</td>\n",
       "      <td>102.697405</td>\n",
       "      <td>151.599587</td>\n",
       "    </tr>\n",
       "  </tbody>\n",
       "</table>\n",
       "</div>"
      ],
      "text/plain": [
       "              di/do     do     t*=t/do           t  del*=del/do         del  \\\n",
       "count  1.500000e+02  150.0  150.000000  150.000000   150.000000  150.000000   \n",
       "mean   8.333000e-01    6.0    0.199967    1.200000     2.400000   14.400000   \n",
       "std    2.450673e-15    0.0    0.152060    0.912258     2.587398   15.524391   \n",
       "min    8.333000e-01    6.0    0.033300    0.200000     0.100000    0.600000   \n",
       "25%    8.333000e-01    6.0    0.033300    0.200000     0.400000    2.400000   \n",
       "50%    8.333000e-01    6.0    0.166600    1.000000     1.250000    7.500000   \n",
       "75%    8.333000e-01    6.0    0.400000    2.400000     4.000000   24.000000   \n",
       "max    8.333000e-01    6.0    0.400000    2.400000     8.000000   48.000000   \n",
       "\n",
       "          Lexposed  At (total outer surface area)           h  \\\n",
       "count   150.000000                     150.000000  150.000000   \n",
       "mean    729.600000                       0.729600   75.000000   \n",
       "std     745.206498                       0.745206   70.663205   \n",
       "min      57.600000                       0.057600    5.000000   \n",
       "25%     155.200000                       0.155200   20.000000   \n",
       "50%     397.600000                       0.397600   50.000000   \n",
       "75%    1192.000000                       1.192000  100.000000   \n",
       "max    2350.400000                       2.350400  200.000000   \n",
       "\n",
       "       qcu (heat flux copper)  qss (heat flux Steel)  \\\n",
       "count              150.000000             150.000000   \n",
       "mean              6701.783993            4016.951693   \n",
       "std               6390.694073            4588.970948   \n",
       "min                467.466000             122.442000   \n",
       "25%               1960.935000             619.616250   \n",
       "50%               4908.206500            1943.379500   \n",
       "75%               9912.579250            5060.683750   \n",
       "max              19969.560000           19328.920000   \n",
       "\n",
       "       qo (maximum heat flux possible)  qcu/qo (efficiency copper)  \\\n",
       "count                       150.000000                  150.000000   \n",
       "mean                       7500.000000                    0.938005   \n",
       "std                        7066.320535                    0.140497   \n",
       "min                         500.000000                    0.185905   \n",
       "25%                        2000.000000                    0.953442   \n",
       "50%                        5000.000000                    0.991898   \n",
       "75%                       10000.000000                    0.998366   \n",
       "max                       20000.000000                    0.999962   \n",
       "\n",
       "       qss/qo (efficiency steel)  Qcu (rate of heat transfer copper)  \\\n",
       "count                 150.000000                          150.000000   \n",
       "mean                    0.671266                         4124.458687   \n",
       "std                     0.331661                         5987.159546   \n",
       "min                     0.030448                           28.798906   \n",
       "25%                     0.315637                          542.715336   \n",
       "50%                     0.825972                         1588.865416   \n",
       "75%                     0.962425                         5511.521534   \n",
       "max                     0.999142                        34013.437060   \n",
       "\n",
       "       Qss (rate of heat transfer steel)  Qo (max. rate of HT possible)  \\\n",
       "count                         150.000000                     150.000000   \n",
       "mean                         1416.214659                     141.375000   \n",
       "std                          1215.132561                     133.200142   \n",
       "min                            28.775290                       9.425000   \n",
       "25%                           477.011598                      37.700000   \n",
       "50%                          1078.465394                      94.250000   \n",
       "75%                          2168.532339                     188.500000   \n",
       "max                          5153.988096                     377.000000   \n",
       "\n",
       "       Ecu (effectiveness copper)  Ess (effectiveness steel)           M  \n",
       "count                  150.000000                 150.000000  150.000000  \n",
       "mean                    33.048566                  16.325606   17.647059  \n",
       "std                     32.401981                  16.935829   29.796048  \n",
       "min                      3.051052                   2.953172    0.092879  \n",
       "25%                      8.222160                   5.478381    1.754386  \n",
       "50%                     20.094308                  11.311672    5.159959  \n",
       "75%                     54.562753                  18.922194   19.175697  \n",
       "max                    122.766415                 102.697405  151.599587  "
      ]
     },
     "execution_count": 5,
     "metadata": {},
     "output_type": "execute_result"
    }
   ],
   "source": [
    "df1.describe()"
   ]
  },
  {
   "cell_type": "code",
   "execution_count": 6,
   "id": "b4170b4e",
   "metadata": {},
   "outputs": [
    {
     "data": {
      "text/plain": [
       "(array([60., 30., 15.,  0., 15.,  0.,  0., 15.,  0., 15.]),\n",
       " array([0.1 , 0.89, 1.68, 2.47, 3.26, 4.05, 4.84, 5.63, 6.42, 7.21, 8.  ]),\n",
       " <BarContainer object of 10 artists>)"
      ]
     },
     "execution_count": 6,
     "metadata": {},
     "output_type": "execute_result"
    },
    {
     "data": {
      "image/png": "[encoded data removed]",
      "text/plain": [
       "<Figure size 432x288 with 1 Axes>"
      ]
     },
     "metadata": {
      "needs_background": "light"
     },
     "output_type": "display_data"
    }
   ],
   "source": [
    "plt.hist(df1[\"del*=del/do\"])"
   ]
  },
  {
   "cell_type": "code",
   "execution_count": 7,
   "id": "715a6e1d",
   "metadata": {},
   "outputs": [
    {
     "data": {
      "text/plain": [
       "(array([50.,  0.,  0., 50.,  0.,  0.,  0.,  0.,  0., 50.]),\n",
       " array([0.0333 , 0.06997, 0.10664, 0.14331, 0.17998, 0.21665, 0.25332,\n",
       "        0.28999, 0.32666, 0.36333, 0.4    ]),\n",
       " <BarContainer object of 10 artists>)"
      ]
     },
     "execution_count": 7,
     "metadata": {},
     "output_type": "execute_result"
    },
    {
     "data": {
      "image/png": "[encoded data removed]",
      "text/plain": [
       "<Figure size 432x288 with 1 Axes>"
      ]
     },
     "metadata": {
      "needs_background": "light"
     },
     "output_type": "display_data"
    }
   ],
   "source": [
    "plt.hist(df1[\"t*=t/do\"])"
   ]
  },
  {
   "cell_type": "code",
   "execution_count": 8,
   "id": "8ddf2986",
   "metadata": {},
   "outputs": [
    {
     "data": {
      "text/plain": [
       "(array([107.,  17.,  11.,   3.,   3.,   3.,   0.,   3.,   0.,   3.]),\n",
       " array([9.28792570e-02, 1.52435501e+01, 3.03942208e+01, 4.55448916e+01,\n",
       "        6.06955624e+01, 7.58462332e+01, 9.09969040e+01, 1.06147575e+02,\n",
       "        1.21298246e+02, 1.36448916e+02, 1.51599587e+02]),\n",
       " <BarContainer object of 10 artists>)"
      ]
     },
     "execution_count": 8,
     "metadata": {},
     "output_type": "execute_result"
    },
    {
     "data": {
      "image/png": "[encoded data removed]",
      "text/plain": [
       "<Figure size 432x288 with 1 Axes>"
      ]
     },
     "metadata": {
      "needs_background": "light"
     },
     "output_type": "display_data"
    }
   ],
   "source": [
    "plt.hist(df1[\"M\"])"
   ]
  },
  {
   "cell_type": "code",
   "execution_count": 9,
   "id": "174bdbbb",
   "metadata": {},
   "outputs": [
    {
     "data": {
      "text/plain": [
       "(array([  2.,   1.,   0.,   2.,   2.,   1.,   3.,   5.,   9., 125.]),\n",
       " array([0.18590525, 0.26731092, 0.3487166 , 0.43012227, 0.51152795,\n",
       "        0.59293363, 0.6743393 , 0.75574498, 0.83715065, 0.91855632,\n",
       "        0.999962  ]),\n",
       " <BarContainer object of 10 artists>)"
      ]
     },
     "execution_count": 9,
     "metadata": {},
     "output_type": "execute_result"
    },
    {
     "data": {
      "image/png": "[encoded data removed]",
      "text/plain": [
       "<Figure size 432x288 with 1 Axes>"
      ]
     },
     "metadata": {
      "needs_background": "light"
     },
     "output_type": "display_data"
    }
   ],
   "source": [
    "plt.hist(df1[\"qcu/qo (efficiency copper)\"])"
   ]
  },
  {
   "cell_type": "code",
   "execution_count": 10,
   "id": "cf6fece1",
   "metadata": {},
   "outputs": [
    {
     "data": {
      "text/html": [
       "<div>\n",
       "<style scoped>\n",
       "    .dataframe tbody tr th:only-of-type {\n",
       "        vertical-align: middle;\n",
       "    }\n",
       "\n",
       "    .dataframe tbody tr th {\n",
       "        vertical-align: top;\n",
       "    }\n",
       "\n",
       "    .dataframe thead th {\n",
       "        text-align: right;\n",
       "    }\n",
       "</style>\n",
       "<table border=\"1\" class=\"dataframe\">\n",
       "  <thead>\n",
       "    <tr style=\"text-align: right;\">\n",
       "      <th></th>\n",
       "      <th>del*=del/do</th>\n",
       "      <th>t*=t/do</th>\n",
       "      <th>M</th>\n",
       "      <th>qcu/qo (efficiency copper)</th>\n",
       "    </tr>\n",
       "  </thead>\n",
       "  <tbody>\n",
       "    <tr>\n",
       "      <th>0</th>\n",
       "      <td>0.1</td>\n",
       "      <td>0.0333</td>\n",
       "      <td>0.121259</td>\n",
       "      <td>0.999750</td>\n",
       "    </tr>\n",
       "    <tr>\n",
       "      <th>1</th>\n",
       "      <td>0.1</td>\n",
       "      <td>0.0333</td>\n",
       "      <td>0.485036</td>\n",
       "      <td>0.999004</td>\n",
       "    </tr>\n",
       "    <tr>\n",
       "      <th>2</th>\n",
       "      <td>0.1</td>\n",
       "      <td>0.0333</td>\n",
       "      <td>1.212590</td>\n",
       "      <td>0.997511</td>\n",
       "    </tr>\n",
       "    <tr>\n",
       "      <th>3</th>\n",
       "      <td>0.1</td>\n",
       "      <td>0.0333</td>\n",
       "      <td>2.425181</td>\n",
       "      <td>0.995031</td>\n",
       "    </tr>\n",
       "    <tr>\n",
       "      <th>4</th>\n",
       "      <td>0.1</td>\n",
       "      <td>0.0333</td>\n",
       "      <td>4.850361</td>\n",
       "      <td>0.990097</td>\n",
       "    </tr>\n",
       "    <tr>\n",
       "      <th>...</th>\n",
       "      <td>...</td>\n",
       "      <td>...</td>\n",
       "      <td>...</td>\n",
       "      <td>...</td>\n",
       "    </tr>\n",
       "    <tr>\n",
       "      <th>145</th>\n",
       "      <td>8.0</td>\n",
       "      <td>0.4000</td>\n",
       "      <td>3.761610</td>\n",
       "      <td>0.992004</td>\n",
       "    </tr>\n",
       "    <tr>\n",
       "      <th>146</th>\n",
       "      <td>8.0</td>\n",
       "      <td>0.4000</td>\n",
       "      <td>15.046440</td>\n",
       "      <td>0.968435</td>\n",
       "    </tr>\n",
       "    <tr>\n",
       "      <th>147</th>\n",
       "      <td>8.0</td>\n",
       "      <td>0.4000</td>\n",
       "      <td>37.616099</td>\n",
       "      <td>0.923117</td>\n",
       "    </tr>\n",
       "    <tr>\n",
       "      <th>148</th>\n",
       "      <td>8.0</td>\n",
       "      <td>0.4000</td>\n",
       "      <td>75.232198</td>\n",
       "      <td>0.852686</td>\n",
       "    </tr>\n",
       "    <tr>\n",
       "      <th>149</th>\n",
       "      <td>8.0</td>\n",
       "      <td>0.4000</td>\n",
       "      <td>150.464396</td>\n",
       "      <td>0.729026</td>\n",
       "    </tr>\n",
       "  </tbody>\n",
       "</table>\n",
       "<p>150 rows × 4 columns</p>\n",
       "</div>"
      ],
      "text/plain": [
       "     del*=del/do  t*=t/do           M  qcu/qo (efficiency copper)\n",
       "0            0.1   0.0333    0.121259                    0.999750\n",
       "1            0.1   0.0333    0.485036                    0.999004\n",
       "2            0.1   0.0333    1.212590                    0.997511\n",
       "3            0.1   0.0333    2.425181                    0.995031\n",
       "4            0.1   0.0333    4.850361                    0.990097\n",
       "..           ...      ...         ...                         ...\n",
       "145          8.0   0.4000    3.761610                    0.992004\n",
       "146          8.0   0.4000   15.046440                    0.968435\n",
       "147          8.0   0.4000   37.616099                    0.923117\n",
       "148          8.0   0.4000   75.232198                    0.852686\n",
       "149          8.0   0.4000  150.464396                    0.729026\n",
       "\n",
       "[150 rows x 4 columns]"
      ]
     },
     "execution_count": 10,
     "metadata": {},
     "output_type": "execute_result"
    }
   ],
   "source": [
    "df_final=df1[[\"del*=del/do\",\"t*=t/do\",\"M\",\"qcu/qo (efficiency copper)\"]]\n",
    "df_final"
   ]
  },
  {
   "cell_type": "code",
   "execution_count": 11,
   "id": "99f36529",
   "metadata": {},
   "outputs": [
    {
     "data": {
      "text/plain": [
       "<AxesSubplot:xlabel='t*=t/do', ylabel='qcu/qo (efficiency copper)'>"
      ]
     },
     "execution_count": 11,
     "metadata": {},
     "output_type": "execute_result"
    },
    {
     "data": {
      "image/png": "[encoded data removed]",
      "text/plain": [
       "<Figure size 432x288 with 1 Axes>"
      ]
     },
     "metadata": {
      "needs_background": "light"
     },
     "output_type": "display_data"
    }
   ],
   "source": [
    "df_final.plot(kind='scatter',x=\"t*=t/do\" , y=\"qcu/qo (efficiency copper)\")"
   ]
  },
  {
   "cell_type": "code",
   "execution_count": 12,
   "id": "1037456d",
   "metadata": {},
   "outputs": [
    {
     "data": {
      "text/plain": [
       "<AxesSubplot:xlabel='del*=del/do', ylabel='qcu/qo (efficiency copper)'>"
      ]
     },
     "execution_count": 12,
     "metadata": {},
     "output_type": "execute_result"
    },
    {
     "data": {
      "image/png": "[encoded data removed]",
      "text/plain": [
       "<Figure size 432x288 with 1 Axes>"
      ]
     },
     "metadata": {
      "needs_background": "light"
     },
     "output_type": "display_data"
    }
   ],
   "source": [
    "df_final.plot(kind='scatter',x=\"del*=del/do\" , y=\"qcu/qo (efficiency copper)\")"
   ]
  },
  {
   "cell_type": "code",
   "execution_count": 13,
   "id": "31045778",
   "metadata": {},
   "outputs": [
    {
     "data": {
      "text/plain": [
       "<AxesSubplot:xlabel='M', ylabel='qcu/qo (efficiency copper)'>"
      ]
     },
     "execution_count": 13,
     "metadata": {},
     "output_type": "execute_result"
    },
    {
     "data": {
      "image/png": "[encoded data removed]",
      "text/plain": [
       "<Figure size 432x288 with 1 Axes>"
      ]
     },
     "metadata": {
      "needs_background": "light"
     },
     "output_type": "display_data"
    }
   ],
   "source": [
    "df_final.plot(kind='scatter',x=\"M\" , y=\"qcu/qo (efficiency copper)\")"
   ]
  },
  {
   "cell_type": "code",
   "execution_count": 14,
   "id": "d57da9e4",
   "metadata": {},
   "outputs": [],
   "source": [
    "X=df_final[[\"del*=del/do\",\"t*=t/do\",\"M\"]].values\n",
    "y=df_final[\"qcu/qo (efficiency copper)\"].values"
   ]
  },
  {
   "cell_type": "code",
   "execution_count": 15,
   "id": "24be1316",
   "metadata": {},
   "outputs": [],
   "source": [
    "scaler= preprocessing.StandardScaler().fit(X)\n",
    "X =scaler.transform(X.astype(float))\n",
    "scaler= preprocessing.MinMaxScaler().fit(X)\n",
    "X =scaler.transform(X.astype(float))"
   ]
  },
  {
   "cell_type": "code",
   "execution_count": 16,
   "id": "90b346cf",
   "metadata": {},
   "outputs": [
    {
     "name": "stdout",
     "output_type": "stream",
     "text": [
      "Train set: (52, 3) (52,)\n",
      "Test set: (98, 3) (98,)\n"
     ]
    }
   ],
   "source": [
    "from sklearn.model_selection import train_test_split\n",
    "X_train, X_test, y_train, y_test = train_test_split( X, y, test_size=0.65, random_state=4)\n",
    "print ('Train set:', X_train.shape,  y_train.shape)\n",
    "print ('Test set:', X_test.shape,  y_test.shape)"
   ]
  },
  {
   "cell_type": "code",
   "execution_count": 17,
   "id": "f5d6892a",
   "metadata": {},
   "outputs": [],
   "source": [
    "X=X_train\n",
    "y=y_train "
   ]
  },
  {
   "cell_type": "code",
   "execution_count": 18,
   "id": "11ee1d4d",
   "metadata": {},
   "outputs": [
    {
     "data": {
      "text/plain": [
       "array([[0.        , 1.18462284, 0.85415785, ..., 0.74685815, 0.59662748,\n",
       "        0.63308958],\n",
       "       [1.18462284, 0.        , 0.37250082, ..., 1.00754938, 1.00976663,\n",
       "        1.00070151],\n",
       "       [0.85415785, 0.37250082, 0.        , ..., 0.66071271, 0.66039374,\n",
       "        0.63977169],\n",
       "       ...,\n",
       "       [0.74685815, 1.00754938, 0.66071271, ..., 0.        , 0.24671663,\n",
       "        0.11429457],\n",
       "       [0.59662748, 1.00976663, 0.66039374, ..., 0.24671663, 0.        ,\n",
       "        0.17434837],\n",
       "       [0.63308958, 1.00070151, 0.63977169, ..., 0.11429457, 0.17434837,\n",
       "        0.        ]])"
      ]
     },
     "execution_count": 18,
     "metadata": {},
     "output_type": "execute_result"
    }
   ],
   "source": [
    "D=np.zeros([len(X),len(X)])\n",
    "for i in range(0,len(X)):\n",
    "    for j in range(0,len(X)):\n",
    "        D[i,j]=scipy.spatial.distance.euclidean(X[i,:],X[j,:])\n",
    "D"
   ]
  },
  {
   "cell_type": "code",
   "execution_count": 19,
   "id": "792d1948",
   "metadata": {},
   "outputs": [],
   "source": [
    "DF=pd.DataFrame(D)"
   ]
  },
  {
   "cell_type": "code",
   "execution_count": 20,
   "id": "21203785",
   "metadata": {},
   "outputs": [],
   "source": [
    "def myfunc(ll,k):\n",
    "    #a=sorted(ll,key=lambda x:(x[0] , x[1]))\n",
    "    ll.sort()\n",
    "    a=ll[1:k+1]\n",
    "    hh=[]\n",
    "    ooo=[]\n",
    "    for elem in a:\n",
    "        h=elem[1]\n",
    "        hh.append(h)\n",
    "    predicted_efficiency=statistics.mean(hh)\n",
    "    return(predicted_efficiency)\n"
   ]
  },
  {
   "cell_type": "code",
   "execution_count": 21,
   "id": "5f2dff1b",
   "metadata": {},
   "outputs": [],
   "source": [
    "k=2\n",
    "y_predicted=np.zeros_like(y)\n",
    "for ii in range(0,len(X)):\n",
    "    ll=[]\n",
    "    for i in range(0,len(X)):\n",
    "        l=[DF.iloc[ii,i],y[i]]\n",
    "        ll.append(l)\n",
    "    class_=myfunc(ll,k)\n",
    "    y_predicted[ii]=class_"
   ]
  },
  {
   "cell_type": "code",
   "execution_count": 22,
   "id": "ef139442",
   "metadata": {},
   "outputs": [
    {
     "data": {
      "text/plain": [
       "array([0.98516425, 0.99085605, 0.99102645, 0.4828213 , 0.99832025,\n",
       "       0.997445  , 0.87748585, 0.9917027 , 0.9839315 , 0.9457759 ,\n",
       "       0.9345689 , 0.948301  , 0.5431221 , 0.9917027 , 0.99577135,\n",
       "       0.93418905, 0.9814835 , 0.9981033 , 0.94335015, 0.8220276 ,\n",
       "       0.8152717 , 0.9978577 , 0.8086586 , 0.9447738 , 0.9575604 ,\n",
       "       0.93450725, 0.9929965 , 0.271527  , 0.99739055, 0.94335015,\n",
       "       0.9981033 , 0.9993838 , 0.98019905, 0.9934119 , 0.9970363 ,\n",
       "       0.9993988 , 0.99744325, 0.7887444 , 0.24238447, 0.9802195 ,\n",
       "       0.99971975, 0.99921555, 0.7992599 , 0.99885835, 0.99800775,\n",
       "       0.99921555, 0.9621111 , 0.9987141 , 0.97927625, 0.9983881 ,\n",
       "       0.9970363 , 0.9978577 ])"
      ]
     },
     "execution_count": 22,
     "metadata": {},
     "output_type": "execute_result"
    }
   ],
   "source": [
    "y_predicted"
   ]
  },
  {
   "cell_type": "code",
   "execution_count": 23,
   "id": "17898f01",
   "metadata": {},
   "outputs": [
    {
     "name": "stdout",
     "output_type": "stream",
     "text": [
      "R2score_train_mycode= 0.9102727511502716\n"
     ]
    }
   ],
   "source": [
    "from sklearn.metrics import r2_score\n",
    "print(\"R2score_train_mycode=\",r2_score(y,y_predicted))"
   ]
  },
  {
   "cell_type": "code",
   "execution_count": 24,
   "id": "15b9329d",
   "metadata": {},
   "outputs": [
    {
     "name": "stdout",
     "output_type": "stream",
     "text": [
      "R2score_train_knn_skitlearn= 1.0\n",
      "R2score_test_knn_skitlearn= 0.4326656287934537\n",
      "R2score_train_knn_skitlearn= 0.9701685745739621\n",
      "R2score_test_knn_skitlearn= 0.8408190823847085\n",
      "R2score_train_knn_skitlearn= 0.960121222733454\n",
      "R2score_test_knn_skitlearn= 0.8798006028921791\n",
      "R2score_train_knn_skitlearn= 0.8948797398447493\n",
      "R2score_test_knn_skitlearn= 0.8071659761993369\n",
      "R2score_train_knn_skitlearn= 0.8033285779058579\n",
      "R2score_test_knn_skitlearn= 0.7937503135748066\n",
      "R2score_train_knn_skitlearn= 0.7629342230675593\n",
      "R2score_test_knn_skitlearn= 0.7602850371354708\n",
      "R2score_train_knn_skitlearn= 0.711444783198888\n",
      "R2score_test_knn_skitlearn= 0.7499003099740063\n",
      "R2score_train_knn_skitlearn= 0.6987681452263391\n",
      "R2score_test_knn_skitlearn= 0.73849492786674\n"
     ]
    },
    {
     "data": {
      "image/png": "[encoded data removed]",
      "text/plain": [
       "<Figure size 432x288 with 1 Axes>"
      ]
     },
     "metadata": {
      "needs_background": "light"
     },
     "output_type": "display_data"
    },
    {
     "data": {
      "image/png": "[encoded data removed]",
      "text/plain": [
       "<Figure size 432x288 with 1 Axes>"
      ]
     },
     "metadata": {
      "needs_background": "light"
     },
     "output_type": "display_data"
    }
   ],
   "source": [
    "kk=[1,2,3,4,5,6,7,8]\n",
    "for kkk in kk:\n",
    "    model=KNeighborsRegressor(n_neighbors=kkk,p=2)\n",
    "    model.fit(X,y)\n",
    "    output=model.predict(X)\n",
    "    print(\"R2score_train_knn_skitlearn=\",r2_score(y,output))\n",
    "    output_test=model.predict(X_test)\n",
    "    print(\"R2score_test_knn_skitlearn=\",r2_score(y_test,output_test))\n",
    "    plt.figure(1)\n",
    "    plt.scatter(x=kkk,y=r2_score(y_test,output_test))\n",
    "    plt.figure(2)\n",
    "    plt.scatter(x=kkk,y=r2_score(y,output))\n"
   ]
  },
  {
   "cell_type": "code",
   "execution_count": 25,
   "id": "7d4322c6",
   "metadata": {},
   "outputs": [
    {
     "data": {
      "text/plain": [
       "LinearRegression()"
      ]
     },
     "execution_count": 25,
     "metadata": {},
     "output_type": "execute_result"
    }
   ],
   "source": [
    "from sklearn import linear_model\n",
    "regr=linear_model.LinearRegression()\n",
    "regr.fit(X,y)"
   ]
  },
  {
   "cell_type": "code",
   "execution_count": 26,
   "id": "e5726cb3",
   "metadata": {},
   "outputs": [
    {
     "data": {
      "text/plain": [
       "array([1.01781802, 0.92620905, 0.98983214, 0.60338378, 0.98664036,\n",
       "       0.96271523, 0.66596741, 0.98208108, 0.95382336, 0.9982947 ,\n",
       "       0.88828078, 0.93578932, 0.63988995, 0.87693646, 0.96771516,\n",
       "       0.90315011, 0.98280123, 1.06031182, 0.88009116, 0.90009106,\n",
       "       0.81351158, 1.06857866, 0.91961438, 0.92144372, 0.95179699,\n",
       "       0.79604498, 1.00068362, 0.29106033, 0.96310337, 0.95866102,\n",
       "       1.05307942, 1.00998489, 0.96175737, 0.97720818, 1.0448097 ,\n",
       "       1.00879244, 1.05256076, 0.78785537, 0.45983556, 0.85880156,\n",
       "       1.00609414, 1.01193027, 0.49719217, 1.05204786, 1.06814057,\n",
       "       0.99960954, 0.96673371, 1.01290643, 0.9035586 , 1.06048663,\n",
       "       0.94234396, 1.04768281])"
      ]
     },
     "execution_count": 26,
     "metadata": {},
     "output_type": "execute_result"
    }
   ],
   "source": [
    "output_regr=regr.predict(X)\n",
    "output_regr"
   ]
  },
  {
   "cell_type": "code",
   "execution_count": 27,
   "id": "4fa097d6",
   "metadata": {},
   "outputs": [
    {
     "name": "stdout",
     "output_type": "stream",
     "text": [
      "R2score_train_linear_skitlearn= 0.7734859512054086\n"
     ]
    }
   ],
   "source": [
    "print(\"R2score_train_linear_skitlearn=\",r2_score(y,output_regr))"
   ]
  },
  {
   "cell_type": "code",
   "execution_count": 28,
   "id": "8989a788",
   "metadata": {},
   "outputs": [
    {
     "name": "stdout",
     "output_type": "stream",
     "text": [
      "R2score_train_mycode= 0.8212563736746465\n"
     ]
    }
   ],
   "source": [
    "D_test=np.zeros([len(X_test),len(X_test)])\n",
    "for i in range(0,len(X_test)):\n",
    "    for j in range(0,len(X_test)):\n",
    "        D_test[i,j]=scipy.spatial.distance.euclidean(X_test[i,:],X_test[j,:])\n",
    "\n",
    "DF_test=pd.DataFrame(D_test)\n",
    "\n",
    "def myfunc_test(ll,k):\n",
    "    #a=sorted(ll,key=lambda x:(x[0] , x[1]))\n",
    "    ll.sort()\n",
    "    a=ll[1:k+1]\n",
    "    if ll[k]==ll[k+1]:\n",
    "        print('error')\n",
    "    hh=[]\n",
    "    ooo=[]\n",
    "    for elem in a:\n",
    "        h=elem[1]\n",
    "        hh.append(h)\n",
    "    predicted_efficiency=statistics.mean(hh)\n",
    "    return(predicted_efficiency)\n",
    "\n",
    "\n",
    "y_predicted_test=np.zeros_like(y_test)\n",
    "for ii in range(0,len(X_test)):\n",
    "    ll_test=[]\n",
    "    for i in range(0,len(X_test)):\n",
    "        l_test=[DF_test.iloc[ii,i],y_test[i]]\n",
    "        ll_test.append(l_test)\n",
    "    class_test=myfunc_test(ll_test,k)\n",
    "    y_predicted_test[ii]=class_test\n",
    "\n",
    "from sklearn.metrics import r2_score\n",
    "print(\"R2score_train_mycode=\",r2_score(y_test,y_predicted_test))"
   ]
  },
  {
   "cell_type": "code",
   "execution_count": 30,
   "id": "27004da9",
   "metadata": {},
   "outputs": [
    {
     "name": "stdout",
     "output_type": "stream",
     "text": [
      "R2score_test_knn_skitlearn= 0.73849492786674\n"
     ]
    },
    {
     "name": "stderr",
     "output_type": "stream",
     "text": [
      "C:\\Users\\Admin\\anaconda3\\lib\\site-packages\\sklearn\\utils\\validation.py:70: FutureWarning: Pass kernel=linear as keyword args. From version 1.0 (renaming of 0.25) passing these as positional arguments will result in an error\n",
      "  warnings.warn(f\"Pass {args_msg} as keyword args. From version \"\n"
     ]
    }
   ],
   "source": [
    "from sklearn.svm import SVR\n",
    "model_SVR=SVR('linear')\n",
    "model_SVR.fit(X,y)\n",
    "output_SVR=model.predict(X_test)\n",
    "print(\"R2score_test_knn_skitlearn=\",r2_score(y_test,output_SVR))\n"
   ]
  },
  {
   "cell_type": "code",
   "execution_count": null,
   "id": "9c751b88",
   "metadata": {},
   "outputs": [],
   "source": []
  },
  {
   "cell_type": "code",
   "execution_count": null,
   "id": "b1167d67",
   "metadata": {},
   "outputs": [],
   "source": []
  }
 ],
 "metadata": {
  "kernelspec": {
   "display_name": "Python 3 (ipykernel)",
   "language": "python",
   "name": "python3"
  },
  "language_info": {
   "codemirror_mode": {
    "name": "ipython",
    "version": 3
   },
   "file_extension": ".py",
   "mimetype": "text/x-python",
   "name": "python",
   "nbconvert_exporter": "python",
   "pygments_lexer": "ipython3",
   "version": "3.9.7"
  }
 },
 "nbformat": 4,
 "nbformat_minor": 5
}
